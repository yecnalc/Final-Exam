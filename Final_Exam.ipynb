{
  "nbformat": 4,
  "nbformat_minor": 0,
  "metadata": {
    "colab": {
      "provenance": [],
      "authorship_tag": "ABX9TyNL/TLm5ZbV4fDG9o6WgffY",
      "include_colab_link": true
    },
    "kernelspec": {
      "name": "python3",
      "display_name": "Python 3"
    },
    "language_info": {
      "name": "python"
    }
  },
  "cells": [
    {
      "cell_type": "markdown",
      "metadata": {
        "id": "view-in-github",
        "colab_type": "text"
      },
      "source": [
        "<a href=\"https://colab.research.google.com/github/yecnalc/Final-Exam/blob/main/Final_Exam.ipynb\" target=\"_parent\"><img src=\"https://colab.research.google.com/assets/colab-badge.svg\" alt=\"Open In Colab\"/></a>"
      ]
    },
    {
      "cell_type": "markdown",
      "source": [
        "#Final Exam"
      ],
      "metadata": {
        "id": "8TteDOG4CS4B"
      }
    },
    {
      "cell_type": "markdown",
      "source": [
        "\"Please paste the following line of Python code in your coding environment:\n",
        "greeting = \"  Hello, little people of Earth!      \"\n",
        "\n",
        "Perform the following operations using a combination of Python functions, string methods, and math capabilities.\n",
        "\n",
        "Determine the length of the string.\n",
        "Determine if this length is evenly divisible by 3.\n",
        "Create and store a new version of the string in a newly named variable that removes any spaces at the end or the beginning of the string.\n",
        "Using string you created in step 2, store the first 5 characters of the string in a new variable.\n",
        "Using the string you created in step 4, append 73 'o' characters to the string and print out the result.\""
      ],
      "metadata": {
        "id": "kMywRBXACiVg"
      }
    },
    {
      "cell_type": "code",
      "source": [
        "greeting = \"Hello little people of Earth!/n\"\n",
        "length = len(greeting)\n",
        "divisible_by_3 = length % 3 == 0\n",
        "new_greeting = greeting.strip()\n",
        "first_five = new_greeting[:5]\n",
        "appended_string = first_five + 'o' * 73\n",
        "\n",
        "print(appended_string)"
      ],
      "metadata": {
        "colab": {
          "base_uri": "https://localhost:8080/"
        },
        "id": "pZDcwV0ZCjnF",
        "outputId": "5cb61b86-80d9-4fe4-ae6d-9921ff5e333f"
      },
      "execution_count": 2,
      "outputs": [
        {
          "output_type": "stream",
          "name": "stdout",
          "text": [
            "Helloooooooooooooooooooooooooooooooooooooooooooooooooooooooooooooooooooooooooo\n"
          ]
        }
      ]
    },
    {
      "cell_type": "markdown",
      "source": [
        "\"Please define a function named wow_kazow that accepts a number and then returns one of the following values:\n",
        "\n",
        "The function returns \"wow\" if the number is evenly divisible by 5.\n",
        "The function returns \"kazow\" if the number is evenly divisible by 7.\n",
        "The function returns \"wowkazow\" if the number is evenly divisible by 5 and 7.\n",
        "The function returns the number it was originally passed if the number is not divisible by either 5 or 7.\n",
        "Finally, please define a main function that loops through numbers 41 through 89 (inclusive) as inputs to the wow_kazow function and prints each of the results. Your instructor will call this main method to test your solution.\""
      ],
      "metadata": {
        "id": "INwVLsLCD8ex"
      }
    },
    {
      "cell_type": "code",
      "source": [
        "def wow_kazow(number):\n",
        "  if number % 5 == 0 and number % 7 == 0:\n",
        "    return \"wowkazow\"\n",
        "  elif number % 5 == 0:\n",
        "    return \"wow\"\n",
        "  elif number % 7 == 0:\n",
        "    return \"kazow\"\n",
        "  else:\n",
        "    return number\n",
        "\n",
        "def main():\n",
        "  for num in range (41, 90):\n",
        "    result = wow_kazow(num)\n",
        "    print(result)\n",
        "if __name__ == \"__main__\":\n",
        "  main()"
      ],
      "metadata": {
        "colab": {
          "base_uri": "https://localhost:8080/"
        },
        "id": "-OPUEgrCD-Lq",
        "outputId": "131c3b6a-6202-40af-c15a-4ae8a498b438"
      },
      "execution_count": 5,
      "outputs": [
        {
          "output_type": "stream",
          "name": "stdout",
          "text": [
            "41\n",
            "kazow\n",
            "43\n",
            "44\n",
            "wow\n",
            "46\n",
            "47\n",
            "48\n",
            "kazow\n",
            "wow\n",
            "51\n",
            "52\n",
            "53\n",
            "54\n",
            "wow\n",
            "kazow\n",
            "57\n",
            "58\n",
            "59\n",
            "wow\n",
            "61\n",
            "62\n",
            "kazow\n",
            "64\n",
            "wow\n",
            "66\n",
            "67\n",
            "68\n",
            "69\n",
            "wowkazow\n",
            "71\n",
            "72\n",
            "73\n",
            "74\n",
            "wow\n",
            "76\n",
            "kazow\n",
            "78\n",
            "79\n",
            "wow\n",
            "81\n",
            "82\n",
            "83\n",
            "kazow\n",
            "wow\n",
            "86\n",
            "87\n",
            "88\n",
            "89\n"
          ]
        }
      ]
    },
    {
      "cell_type": "markdown",
      "source": [
        "\"Please create two classes that implement all of the names, data attributes, and methods reflected in the following UML diagram. These classes will be used within an inventory management system for ACME Eyewear.\n",
        "\n",
        "The __str__() method in both classes should create a reasonable string representation for use in calls to the Python print() function.\""
      ],
      "metadata": {
        "id": "qV3AmM6BFDDv"
      }
    },
    {
      "cell_type": "code",
      "source": [
        "class Prescription:\n",
        "    def __init__(self, price, prescription, color):\n",
        "        self.price = price\n",
        "        self.color = color\n",
        "        self.prescription = prescription\n",
        "\n",
        "    def __str__(self):\n",
        "        return f\"color: {self.color}, price: ${self.price}, prescription: {self.prescription}\"\n",
        "\n",
        "class PharmacyItem:\n",
        "    def __init__(self):\n",
        "        self.price = 0\n",
        "        self.prescription = None\n",
        "\n",
        "    def set_price(self, price):\n",
        "        self.price = price\n",
        "\n",
        "    def set_prescription(self, prescription):\n",
        "        self.prescription = prescription\n",
        "\n",
        "    def get_price(self):\n",
        "        return self.price\n",
        "\n",
        "    def get_prescription(self):\n",
        "        return self.prescription\n",
        "\n",
        "class ReadingPrescription(Prescription):\n",
        "    def __init__(self, price, prescription, color, reading_prescription):\n",
        "        super().__init__(price, prescription, color)\n",
        "        self.reading_prescription = reading_prescription\n",
        "\n",
        "    def set_reading_prescription(self, reading_prescription):\n",
        "        self.reading_prescription = reading_prescription\n",
        "\n",
        "    def get_reading_prescription(self):\n",
        "        return self.reading_prescription\n",
        "\n",
        "    def __str__(self):\n",
        "        return f\"color: {self.color}, price: ${self.price}, prescription: {self.prescription}, reading prescription: {self.reading_prescription}\"\n"
      ],
      "metadata": {
        "id": "WzyYP8hjN75h"
      },
      "execution_count": 20,
      "outputs": []
    }
  ]
}